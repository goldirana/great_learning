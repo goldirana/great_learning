{
 "cells": [
  {
   "cell_type": "markdown",
   "metadata": {
    "id": "RgVmWe9r9CON"
   },
   "source": [
    "<table align=\"center\" width=100%>\n",
    "    <tr>\n",
    "        <td width=\"20%\">\n",
    "            <img src=\"in_class.png\">\n",
    "        </td>\n",
    "        <td>\n",
    "            <div align=\"center\">\n",
    "                <font color=\"#21618C\" size=8px>\n",
    "                    <b> Inclass - Lab <br>(Week 4)\n",
    "                    </b>\n",
    "                </font>\n",
    "            </div>\n",
    "        </td>\n",
    "        <td width=\"25%\">\n",
    "            <img src=\"GL-2.png\">\n",
    "        </td>\n",
    "    </tr>\n",
    "</table>"
   ]
  },
  {
   "cell_type": "markdown",
   "metadata": {
    "id": "YAMRLKEX9COP"
   },
   "source": [
    "##  Table of Content\n",
    "\n",
    "1. **[One Dimensional Array](#1d)**\n",
    "2. **[Two Dimensional Array](#2d)**"
   ]
  },
  {
   "cell_type": "markdown",
   "metadata": {
    "id": "q3UMllFJ9COQ"
   },
   "source": [
    "**Import the NumPy library before solving the exercises**"
   ]
  },
  {
   "cell_type": "code",
   "execution_count": 2,
   "metadata": {
    "id": "Ah3ZA2pX9COR"
   },
   "outputs": [],
   "source": [
    "import numpy as np"
   ]
  },
  {
   "cell_type": "markdown",
   "metadata": {
    "id": "m0CI3MXR9COV"
   },
   "source": [
    "### Let's begin with some hands-on practice exercises"
   ]
  },
  {
   "cell_type": "markdown",
   "metadata": {
    "id": "EU1NvU-V9COV"
   },
   "source": [
    "<a id=\"1d\"> </a>\n",
    "## 1. One Dimensional Array"
   ]
  },
  {
   "cell_type": "markdown",
   "metadata": {
    "id": "azpaQIG09COW"
   },
   "source": [
    "<table align=\"left\">\n",
    "    <tr>\n",
    "        <td width=\"6%\">\n",
    "            <img src=\"question_icon.png\">\n",
    "        </td>\n",
    "        <td>\n",
    "            <div align=\"left\", style=\"font-size:120%\">\n",
    "                <font color=\"#21618C\">\n",
    "                    <b>1. Write a NumPy program to convert a list of numeric values into a one-dimensional NumPy array</b>\n",
    "                </font>\n",
    "            </div>\n",
    "        </td>\n",
    "    </tr>\n",
    "</table>"
   ]
  },
  {
   "cell_type": "markdown",
   "metadata": {
    "id": "zZOyWgBd9COX"
   },
   "source": [
    "**Use the list given below: (or create your own list)**<br>\n",
    "\n",
    "    list_temperature = [3.04, 1.65, 5.76, 1.66, 1.54, 4.69, 2.68]"
   ]
  },
  {
   "cell_type": "code",
   "execution_count": 10,
   "metadata": {},
   "outputs": [
    {
     "name": "stdout",
     "output_type": "stream",
     "text": [
      "[3.04 1.65 5.76 1.66 1.54 4.69 2.68] <class 'numpy.ndarray'>\n"
     ]
    }
   ],
   "source": [
    "# type your code here\n",
    "list_temperature = np.array([3.04, 1.65, 5.76, 1.66, 1.54, 4.69, 2.68], dtype=np.float16)\n",
    "print(list_temperature, type(list_temperature))"
   ]
  },
  {
   "cell_type": "markdown",
   "metadata": {
    "id": "Kl9UEppe9COb"
   },
   "source": [
    "<table align=\"left\">\n",
    "    <tr>\n",
    "        <td width=\"6%\">\n",
    "            <img src=\"question_icon.png\">\n",
    "        </td>\n",
    "        <td>\n",
    "            <div align=\"left\", style=\"font-size:120%\">\n",
    "                <font color=\"#21618C\">\n",
    "                    <b>2. Create a 1D array of weights of 10 students and retrieve all the weights greater than 68</b>\n",
    "                </font>\n",
    "            </div>\n",
    "        </td>\n",
    "    </tr>\n",
    "</table>"
   ]
  },
  {
   "cell_type": "markdown",
   "metadata": {
    "id": "WWYp0l6F9COc"
   },
   "source": [
    "**Use the weights given below: (or create your own list)**\n",
    "\n",
    "    weights = [74.2, 85, 74, 67.9, 52, 70.5, 86, 51.8, 64, 82]"
   ]
  },
  {
   "cell_type": "code",
   "execution_count": 8,
   "metadata": {},
   "outputs": [
    {
     "name": "stdout",
     "output_type": "stream",
     "text": [
      "[74.2 85.  74.  70.5 86.  82. ]\n"
     ]
    }
   ],
   "source": [
    "weights = np.array([74.2, 85, 74, 67.9, 52, 70.5, 86, 51.8, 64, 82])\n",
    "index = weights>68\n",
    "print(weights[index])\n"
   ]
  },
  {
   "cell_type": "markdown",
   "metadata": {
    "id": "0TMXY_AV9COg"
   },
   "source": [
    "<table align=\"left\">\n",
    "    <tr>\n",
    "        <td width=\"6%\">\n",
    "            <img src=\"question_icon.png\">\n",
    "        </td>\n",
    "        <td>\n",
    "            <div align=\"left\", style=\"font-size:120%\">\n",
    "                <font color=\"#21618C\">\n",
    "                    <b>3. Write a code to generate 10 random integers between 20 to 40 (Is it possible to generate same random numbers everytime? If yes, describe the function)\n",
    "                    </b>\n",
    "                </font>\n",
    "            </div>\n",
    "        </td>\n",
    "    </tr>\n",
    "</table>"
   ]
  },
  {
   "cell_type": "markdown",
   "metadata": {
    "id": "mJEjeJPU9COg"
   },
   "source": [
    "**Explanation:** It is possible to generate same random numbers everytime. There is a function called, random.seed() in numpy which gives the same random numbers everytime. It is necessary to set the random seed just before generating the random numbers to get the same values"
   ]
  },
  {
   "cell_type": "code",
   "execution_count": 7,
   "metadata": {},
   "outputs": [
    {
     "data": {
      "text/plain": [
       "array([32, 35, 20, 23, 23, 27, 29, 39, 38, 24])"
      ]
     },
     "execution_count": 7,
     "metadata": {},
     "output_type": "execute_result"
    }
   ],
   "source": [
    "np.random.seed(0)\n",
    "x = np.random.randint(20, 40, 10)\n",
    "x"
   ]
  },
  {
   "cell_type": "markdown",
   "metadata": {
    "id": "VLKooQY69COk"
   },
   "source": [
    "<table align=\"left\">\n",
    "    <tr>\n",
    "        <td width=\"6%\">\n",
    "            <img src=\"question_icon.png\">\n",
    "        </td>\n",
    "        <td>\n",
    "            <div align=\"left\", style=\"font-size:120%\">\n",
    "                <font color=\"#21618C\">\n",
    "                    <b>4. Write a program to get the fifth power of the first five positive integers\n",
    "                    </b>\n",
    "                </font>\n",
    "            </div>\n",
    "        </td>\n",
    "    </tr>\n",
    "</table>"
   ]
  },
  {
   "cell_type": "code",
   "execution_count": 14,
   "metadata": {},
   "outputs": [
    {
     "data": {
      "text/plain": [
       "array([1.000e+00, 3.200e+01, 2.430e+02, 1.024e+03, 3.125e+03])"
      ]
     },
     "execution_count": 14,
     "metadata": {},
     "output_type": "execute_result"
    }
   ],
   "source": [
    "x = np.linspace(1, 5, 5)\n",
    "np.power(x, 5)"
   ]
  },
  {
   "cell_type": "code",
   "execution_count": 18,
   "metadata": {},
   "outputs": [
    {
     "data": {
      "text/plain": [
       "array([   1,   32,  243, 1024, 3125])"
      ]
     },
     "execution_count": 18,
     "metadata": {},
     "output_type": "execute_result"
    }
   ],
   "source": [
    "a=np.random.randint(1,6, 5)\n",
    "np.power(np.arange(1, 6), 5)"
   ]
  },
  {
   "cell_type": "markdown",
   "metadata": {
    "id": "7dKgVR_p9COn"
   },
   "source": [
    "<table align=\"left\">\n",
    "    <tr>\n",
    "        <td width=\"6%\">\n",
    "            <img src=\"question_icon.png\">\n",
    "        </td>\n",
    "        <td>\n",
    "            <div align=\"left\", style=\"font-size:120%\">\n",
    "                <font color=\"#21618C\">\n",
    "                    <b>5. Write a program to create an array of all the odd integers from 50 to 100\n",
    "                    </b>\n",
    "                </font>\n",
    "            </div>\n",
    "        </td>\n",
    "    </tr>\n",
    "</table>"
   ]
  },
  {
   "cell_type": "code",
   "execution_count": 20,
   "metadata": {},
   "outputs": [
    {
     "data": {
      "text/plain": [
       "array([51, 53, 55, 57, 59, 61, 63, 65, 67, 69, 71, 73, 75, 77, 79, 81, 83,\n",
       "       85, 87, 89, 91, 93, 95, 97, 99])"
      ]
     },
     "execution_count": 20,
     "metadata": {},
     "output_type": "execute_result"
    }
   ],
   "source": [
    "def odd_array(start, stop):\n",
    "    x = np.arange(start, stop)\n",
    "    return x[x%2!=0]\n",
    "\n",
    "odd_array(50, 100)"
   ]
  },
  {
   "cell_type": "markdown",
   "metadata": {
    "id": "pt15E4oa9COr"
   },
   "source": [
    "<table align=\"left\">\n",
    "    <tr>\n",
    "        <td width=\"6%\">\n",
    "            <img src=\"question_icon.png\">\n",
    "        </td>\n",
    "        <td>\n",
    "            <div align=\"left\", style=\"font-size:120%\">\n",
    "                <font color=\"#21618C\">\n",
    "                    <b>6. Write a program to calculate the sum of each column </b>\n",
    "                </font>\n",
    "            </div>\n",
    "        </td>\n",
    "    </tr>\n",
    "</table>"
   ]
  },
  {
   "cell_type": "markdown",
   "metadata": {
    "id": "93id5tUJ9COr"
   },
   "source": [
    "**Use the array given below: (or create your own array)**\n",
    "\n",
    "    A = [[1, 4, 8], [5, 7, 3], [9, 14, 2]]"
   ]
  },
  {
   "cell_type": "code",
   "execution_count": 23,
   "metadata": {},
   "outputs": [
    {
     "data": {
      "text/plain": [
       "array([13, 15, 25])"
      ]
     },
     "execution_count": 23,
     "metadata": {},
     "output_type": "execute_result"
    }
   ],
   "source": [
    "A =np.array( [[1, 4, 8], [5, 7, 3], [9, 14, 2]])\n",
    "A # axis = 0, 1\n",
    "np.sum(A, axis=1)"
   ]
  },
  {
   "cell_type": "markdown",
   "metadata": {
    "id": "keekmPq09COu"
   },
   "source": [
    "<table align=\"left\">\n",
    "    <tr>\n",
    "        <td width=\"6%\">\n",
    "            <img src=\"question_icon.png\">\n",
    "        </td>\n",
    "        <td>\n",
    "            <div align=\"left\", style=\"font-size:120%\">\n",
    "                <font color=\"#21618C\">\n",
    "                    <b>7. Write a code to get the element-wise remainder of an array after division by 8\n",
    "                    </b>\n",
    "                </font>\n",
    "            </div>\n",
    "        </td>\n",
    "    </tr>\n",
    "</table>"
   ]
  },
  {
   "cell_type": "markdown",
   "metadata": {
    "id": "meh74GfW9COv"
   },
   "source": [
    "**Use the list given below:**<br>\n",
    "    \n",
    "num = [42, 87, 90, 14, 32, 75, 61, 80, 92]"
   ]
  },
  {
   "cell_type": "code",
   "execution_count": 24,
   "metadata": {},
   "outputs": [
    {
     "data": {
      "text/plain": [
       "array([2, 7, 2, 6, 0, 3, 5, 0, 4])"
      ]
     },
     "execution_count": 24,
     "metadata": {},
     "output_type": "execute_result"
    }
   ],
   "source": [
    "num = np.array([42, 87, 90, 14, 32, 75, 61, 80, 92]) % 8\n",
    "num"
   ]
  },
  {
   "cell_type": "markdown",
   "metadata": {
    "id": "5gfVJ7769COz"
   },
   "source": [
    "<a id=\"2d\"> </a>\n",
    "## 2. Two Dimensional Array"
   ]
  },
  {
   "cell_type": "markdown",
   "metadata": {
    "id": "UkiD5Yeb9COz"
   },
   "source": [
    "<table align=\"left\">\n",
    "    <tr>\n",
    "        <td width=\"6%\">\n",
    "            <img src=\"question_icon.png\">\n",
    "        </td>\n",
    "        <td>\n",
    "            <div align=\"left\", style=\"font-size:120%\">\n",
    "                <font color=\"#21618C\">\n",
    "                    <b>8. Create a 2D numpy array from a 1D array of 20 elements of your choice. Further, subset the first 5 elements from the second element of a resulting 2D array\n",
    "                    </b>\n",
    "                </font>\n",
    "            </div>\n",
    "        </td>\n",
    "    </tr>\n",
    "</table>"
   ]
  },
  {
   "cell_type": "code",
   "execution_count": 30,
   "metadata": {},
   "outputs": [
    {
     "data": {
      "text/plain": [
       "array([ 6,  7,  8,  9, 10])"
      ]
     },
     "execution_count": 30,
     "metadata": {},
     "output_type": "execute_result"
    }
   ],
   "source": [
    "a = np.arange(1, 21)\n",
    "a = a.reshape(4, 5)\n",
    "a[1]"
   ]
  },
  {
   "cell_type": "code",
   "execution_count": 25,
   "metadata": {},
   "outputs": [
    {
     "name": "stdout",
     "output_type": "stream",
     "text": [
      "[[ 1  2  3  4  5]\n",
      " [ 6  7  8  9 10]\n",
      " [11 12 13 14 15]\n",
      " [16 17 18 19 20]]\n",
      "[ 6  7  8  9 10]\n"
     ]
    }
   ],
   "source": [
    "# type your code here\n",
    "a = np.arange(1, 21)\n",
    "b = a.reshape(4, 5)\n",
    "print(b)\n",
    "subset = b[1, :]\n",
    "print(subset)"
   ]
  },
  {
   "cell_type": "markdown",
   "metadata": {
    "id": "H7lFQjil9CO2"
   },
   "source": [
    "<table align=\"left\">\n",
    "    <tr>\n",
    "        <td width=\"6%\">\n",
    "            <img src=\"question_icon.png\">\n",
    "        </td>\n",
    "        <td>\n",
    "            <div align=\"left\", style=\"font-size:120%\">\n",
    "                <font color=\"#21618C\">\n",
    "                    <b>9. Write a program to find common values between two arrays\n",
    "                    </b>\n",
    "                </font>\n",
    "            </div>\n",
    "        </td>\n",
    "    </tr>\n",
    "</table>"
   ]
  },
  {
   "cell_type": "markdown",
   "metadata": {
    "id": "4a4dTXng9CO2"
   },
   "source": [
    "**Use the lists given below:**<br>\n",
    "\n",
    "    prices_monday = [10, 30, 50, 60, 90]\n",
    "\n",
    "    prices_tuesday = [50, 20, 80, 125, 10, 70]"
   ]
  },
  {
   "cell_type": "code",
   "execution_count": 26,
   "metadata": {},
   "outputs": [
    {
     "data": {
      "text/plain": [
       "array([10, 50])"
      ]
     },
     "execution_count": 26,
     "metadata": {},
     "output_type": "execute_result"
    }
   ],
   "source": [
    "prices_monday = np.array([10, 30, 50, 60, 90])\n",
    "\n",
    "prices_tuesday = np.array([50, 20, 80, 125, 10, 70])\n",
    "\n",
    "np.intersect1d(prices_monday, prices_tuesday)"
   ]
  },
  {
   "cell_type": "markdown",
   "metadata": {
    "id": "aEQvbI1_9CO5"
   },
   "source": [
    "<table align=\"left\">\n",
    "    <tr>\n",
    "        <td width=\"6%\">\n",
    "            <img src=\"question_icon.png\">\n",
    "        </td>\n",
    "        <td>\n",
    "            <div align=\"left\", style=\"font-size:120%\">\n",
    "                <font color=\"#21618C\">\n",
    "                    <b>10. Write a program to find BMI of the patients whose height and weight is provided in the list given below\n",
    "                    </b>\n",
    "                </font>\n",
    "            </div>\n",
    "        </td>\n",
    "    </tr>\n",
    "</table>"
   ]
  },
  {
   "cell_type": "markdown",
   "metadata": {
    "id": "Pf1nD1Lz9CO5"
   },
   "source": [
    "**Use the lists given below:**<br>\n",
    "\n",
    "    list of weights (in kg)\n",
    "    weights = [57, 69, 54, 65 ,71, 62, 56]\n",
    "\n",
    "    list of heights (in m)<br>\n",
    "    heights = [1.59, 1.75, 1.66, 1.74, 1.64, 1.72, 1.53]"
   ]
  },
  {
   "cell_type": "code",
   "execution_count": 27,
   "metadata": {},
   "outputs": [
    {
     "name": "stdout",
     "output_type": "stream",
     "text": [
      "[22.54657648 22.53061224 19.59645812 21.46915048 26.39797739 20.9572742\n",
      " 23.922423  ]\n"
     ]
    }
   ],
   "source": [
    "# bmi formula = weight / height^2\n",
    "weights = np.array([57, 69, 54, 65 ,71, 62, 56])\n",
    "heights = np.array([1.59, 1.75, 1.66, 1.74, 1.64, 1.72, 1.53])\n",
    "\n",
    "bmi = weights / np.power(heights, 2)\n",
    "print(bmi)"
   ]
  },
  {
   "cell_type": "markdown",
   "metadata": {
    "id": "mpITRPKu9CPB"
   },
   "source": [
    "<table align=\"left\">\n",
    "    <tr>\n",
    "        <td width=\"6%\">\n",
    "            <img src=\"question_icon.png\">\n",
    "        </td>\n",
    "        <td>\n",
    "            <div align=\"left\", style=\"font-size:120%\">\n",
    "                <font color=\"#21618C\">\n",
    "                    <b>11. Write a code to print the identity matrix of order 5</b>\n",
    "                </font>\n",
    "            </div>\n",
    "        </td>\n",
    "    </tr>\n",
    "</table>"
   ]
  },
  {
   "cell_type": "code",
   "execution_count": 31,
   "metadata": {},
   "outputs": [
    {
     "data": {
      "text/plain": [
       "array([[1., 0., 0., 0., 0.],\n",
       "       [0., 1., 0., 0., 0.],\n",
       "       [0., 0., 1., 0., 0.],\n",
       "       [0., 0., 0., 1., 0.],\n",
       "       [0., 0., 0., 0., 1.]])"
      ]
     },
     "execution_count": 31,
     "metadata": {},
     "output_type": "execute_result"
    }
   ],
   "source": [
    "# type your code here\n",
    "a = np.eye(5)\n",
    "a"
   ]
  },
  {
   "cell_type": "markdown",
   "metadata": {
    "id": "0BFl73t59CPE"
   },
   "source": [
    "<table align=\"left\">\n",
    "    <tr>\n",
    "        <td width=\"6%\">\n",
    "            <img src=\"question_icon.png\">\n",
    "        </td>\n",
    "        <td>\n",
    "            <div align=\"left\", style=\"font-size:120%\">\n",
    "                <font color=\"#21618C\">\n",
    "                    <b>12. Write a program to transpose a matrix\n",
    "                    </b>\n",
    "                </font>\n",
    "            </div>\n",
    "        </td>\n",
    "    </tr>\n",
    "</table>"
   ]
  },
  {
   "cell_type": "markdown",
   "metadata": {
    "id": "tXOWf1TW9CPE"
   },
   "source": [
    "**Use the matrix given below:**\n",
    "    \n",
    "    M = [[15, 17, 45, 56], [7, 42, 15, 63], [54, 3, 61, 41], [0, 87, 16, 20]]"
   ]
  },
  {
   "cell_type": "code",
   "execution_count": 32,
   "metadata": {},
   "outputs": [
    {
     "data": {
      "text/plain": [
       "array([[15, 17, 45, 56],\n",
       "       [ 7, 42, 15, 63],\n",
       "       [54,  3, 61, 41],\n",
       "       [ 0, 87, 16, 20]])"
      ]
     },
     "execution_count": 32,
     "metadata": {},
     "output_type": "execute_result"
    }
   ],
   "source": [
    "M = np.array([[15, 17, 45, 56], [7, 42, 15, 63], [54, 3, 61, 41], [0, 87, 16, 20]])\n",
    "M"
   ]
  },
  {
   "cell_type": "code",
   "execution_count": 33,
   "metadata": {},
   "outputs": [
    {
     "data": {
      "text/plain": [
       "array([[15,  7, 54,  0],\n",
       "       [17, 42,  3, 87],\n",
       "       [45, 15, 61, 16],\n",
       "       [56, 63, 41, 20]])"
      ]
     },
     "execution_count": 33,
     "metadata": {},
     "output_type": "execute_result"
    }
   ],
   "source": [
    "M.transpose()"
   ]
  },
  {
   "cell_type": "code",
   "execution_count": null,
   "metadata": {},
   "outputs": [],
   "source": [
    "# home work: find the difference between reshare and transpose and see now the elements are aligned "
   ]
  },
  {
   "cell_type": "markdown",
   "metadata": {
    "id": "nOLh_BcO9CPZ"
   },
   "source": [
    "<table align=\"left\">\n",
    "    <tr>\n",
    "        <td width=\"6%\">\n",
    "            <img src=\"question_icon.png\">\n",
    "        </td>\n",
    "        <td>\n",
    "            <div align=\"left\", style=\"font-size:120%\">\n",
    "                <font color=\"#21618C\">\n",
    "                    <b>13. Define a for loop to apply the function (2x-1)/(x+5) on every element of an array </b>\n",
    "                </font>\n",
    "            </div>\n",
    "        </td>\n",
    "    </tr>\n",
    "</table>"
   ]
  },
  {
   "cell_type": "markdown",
   "metadata": {
    "id": "Zu_PDM2Q9CPa"
   },
   "source": [
    "**Use the list given below:**\n",
    "    \n",
    "    numbers = [6, 5, 3, 15]"
   ]
  },
  {
   "cell_type": "code",
   "execution_count": null,
   "metadata": {},
   "outputs": [],
   "source": []
  },
  {
   "cell_type": "code",
   "execution_count": null,
   "metadata": {},
   "outputs": [],
   "source": [
    "# type your code here"
   ]
  }
 ],
 "metadata": {
  "colab": {
   "collapsed_sections": [
    "5gfVJ7769COz",
    "SqkQRQGa9CPH",
    "7j7ejlj59CPO",
    "hG7TXhAX9CPW"
   ],
   "provenance": []
  },
  "kernelspec": {
   "display_name": "dl",
   "language": "python",
   "name": "python3"
  },
  "language_info": {
   "codemirror_mode": {
    "name": "ipython",
    "version": 3
   },
   "file_extension": ".py",
   "mimetype": "text/x-python",
   "name": "python",
   "nbconvert_exporter": "python",
   "pygments_lexer": "ipython3",
   "version": "3.8.18"
  }
 },
 "nbformat": 4,
 "nbformat_minor": 0
}
